{
 "cells": [
  {
   "cell_type": "code",
   "execution_count": 131,
   "id": "958b10bd-eac3-40b7-b243-6ceb406db511",
   "metadata": {},
   "outputs": [],
   "source": [
    "import os\n",
    "import glob\n",
    "import warnings\n",
    "import numpy as np\n",
    "import pandas as pd\n",
    "import datetime as dt\n",
    "import seaborn as sns\n",
    "import matplotlib.pyplot as plt\n",
    "%matplotlib inline\n",
    "\n",
    "warnings.filterwarnings(action='ignore')"
   ]
  },
  {
   "cell_type": "code",
   "execution_count": 132,
   "id": "fb92cf21-f37f-41a0-b8b4-6825f1977266",
   "metadata": {},
   "outputs": [
    {
     "name": "stdout",
     "output_type": "stream",
     "text": [
      "3.10.4 (v3.10.4:9d38120e33, Mar 23 2022, 17:29:05) [Clang 13.0.0 (clang-1300.0.29.30)]\n",
      "Numpy Version 1.22.3\n",
      "Pandas Version 1.4.2\n"
     ]
    }
   ],
   "source": [
    "print(os.sys.version)\n",
    "print(f\"Numpy Version {np.__version__}\")\n",
    "print(f\"Pandas Version {pd.__version__}\")"
   ]
  },
  {
   "cell_type": "code",
   "execution_count": 133,
   "id": "b8698f42-6efb-484d-9e28-7f4df7f8dd0e",
   "metadata": {},
   "outputs": [
    {
     "data": {
      "text/plain": [
       "'/Users/danieldiazalmeida/Documents'"
      ]
     },
     "execution_count": 133,
     "metadata": {},
     "output_type": "execute_result"
    }
   ],
   "source": [
    "os.getcwd()"
   ]
  },
  {
   "cell_type": "code",
   "execution_count": 134,
   "id": "bb7d39aa-7e60-4d87-8dcf-e32c9e9d2484",
   "metadata": {},
   "outputs": [
    {
     "data": {
      "text/plain": [
       "'/Users/danieldiazalmeida/Downloads/dataMeteoPSDA-Tecnalia'"
      ]
     },
     "execution_count": 134,
     "metadata": {},
     "output_type": "execute_result"
    }
   ],
   "source": [
    "path = \"/Users/danieldiazalmeida/Downloads/\"\n",
    "folder = \"dataMeteoPSDA-Tecnalia\"\n",
    "data = os.path.join(path, folder)\n",
    "data"
   ]
  },
  {
   "cell_type": "markdown",
   "id": "128ce697-8371-47e5-870a-d90b86881ab6",
   "metadata": {},
   "source": [
    "# Energy Assessment"
   ]
  },
  {
   "cell_type": "code",
   "execution_count": 135,
   "id": "9c1827c6-4f8e-4c40-a679-ce768ad9fa1b",
   "metadata": {},
   "outputs": [
    {
     "data": {
      "text/plain": [
       "['/Users/danieldiazalmeida/Downloads/dataMeteoPSDA-Tecnalia/header_energia_PSDA.csv',\n",
       " '/Users/danieldiazalmeida/Downloads/dataMeteoPSDA-Tecnalia/header_energia_PSDA_02.csv']"
      ]
     },
     "execution_count": 135,
     "metadata": {},
     "output_type": "execute_result"
    }
   ],
   "source": [
    "en_data = glob.glob(data+'/'+\"header_energia_**.csv\", recursive=True)\n",
    "en_data"
   ]
  },
  {
   "cell_type": "code",
   "execution_count": 136,
   "id": "a61dde0f-1ec3-4ce2-a6c1-b8d285df277c",
   "metadata": {},
   "outputs": [
    {
     "data": {
      "text/html": [
       "<div>\n",
       "<style scoped>\n",
       "    .dataframe tbody tr th:only-of-type {\n",
       "        vertical-align: middle;\n",
       "    }\n",
       "\n",
       "    .dataframe tbody tr th {\n",
       "        vertical-align: top;\n",
       "    }\n",
       "\n",
       "    .dataframe thead th {\n",
       "        text-align: right;\n",
       "    }\n",
       "</style>\n",
       "<table border=\"1\" class=\"dataframe\">\n",
       "  <thead>\n",
       "    <tr style=\"text-align: right;\">\n",
       "      <th></th>\n",
       "      <th>datetime</th>\n",
       "      <th>GHI_kWhm2</th>\n",
       "    </tr>\n",
       "  </thead>\n",
       "  <tbody>\n",
       "    <tr>\n",
       "      <th>0</th>\n",
       "      <td>2021-02-11</td>\n",
       "      <td>8.777939</td>\n",
       "    </tr>\n",
       "    <tr>\n",
       "      <th>1</th>\n",
       "      <td>2021-02-12</td>\n",
       "      <td>8.696773</td>\n",
       "    </tr>\n",
       "    <tr>\n",
       "      <th>2</th>\n",
       "      <td>2021-02-13</td>\n",
       "      <td>8.767492</td>\n",
       "    </tr>\n",
       "    <tr>\n",
       "      <th>3</th>\n",
       "      <td>2021-02-14</td>\n",
       "      <td>8.588747</td>\n",
       "    </tr>\n",
       "    <tr>\n",
       "      <th>4</th>\n",
       "      <td>2021-02-15</td>\n",
       "      <td>8.723858</td>\n",
       "    </tr>\n",
       "    <tr>\n",
       "      <th>...</th>\n",
       "      <td>...</td>\n",
       "      <td>...</td>\n",
       "    </tr>\n",
       "    <tr>\n",
       "      <th>19</th>\n",
       "      <td>2022-02-07</td>\n",
       "      <td>9.033778</td>\n",
       "    </tr>\n",
       "    <tr>\n",
       "      <th>20</th>\n",
       "      <td>2022-02-08</td>\n",
       "      <td>8.972952</td>\n",
       "    </tr>\n",
       "    <tr>\n",
       "      <th>21</th>\n",
       "      <td>2022-02-09</td>\n",
       "      <td>8.915150</td>\n",
       "    </tr>\n",
       "    <tr>\n",
       "      <th>22</th>\n",
       "      <td>2022-02-10</td>\n",
       "      <td>8.872869</td>\n",
       "    </tr>\n",
       "    <tr>\n",
       "      <th>23</th>\n",
       "      <td>2022-02-11</td>\n",
       "      <td>8.954777</td>\n",
       "    </tr>\n",
       "  </tbody>\n",
       "</table>\n",
       "<p>367 rows × 2 columns</p>\n",
       "</div>"
      ],
      "text/plain": [
       "      datetime  GHI_kWhm2\n",
       "0   2021-02-11   8.777939\n",
       "1   2021-02-12   8.696773\n",
       "2   2021-02-13   8.767492\n",
       "3   2021-02-14   8.588747\n",
       "4   2021-02-15   8.723858\n",
       "..         ...        ...\n",
       "19  2022-02-07   9.033778\n",
       "20  2022-02-08   8.972952\n",
       "21  2022-02-09   8.915150\n",
       "22  2022-02-10   8.872869\n",
       "23  2022-02-11   8.954777\n",
       "\n",
       "[367 rows x 2 columns]"
      ]
     },
     "execution_count": 136,
     "metadata": {},
     "output_type": "execute_result"
    }
   ],
   "source": [
    "df1 = pd.read_csv(en_data[0], header=6, delimiter=',')\n",
    "df2 = pd.read_csv(en_data[1], header=6, delimiter=';')\n",
    "en_df = pd.concat([df1, df2])\n",
    "en_df"
   ]
  },
  {
   "cell_type": "code",
   "execution_count": 137,
   "id": "0ca04b38-7662-4d58-9f8b-c1c498d33f4a",
   "metadata": {},
   "outputs": [
    {
     "name": "stdout",
     "output_type": "stream",
     "text": [
      "<class 'pandas.core.frame.DataFrame'>\n",
      "Int64Index: 367 entries, 0 to 23\n",
      "Data columns (total 2 columns):\n",
      " #   Column     Non-Null Count  Dtype  \n",
      "---  ------     --------------  -----  \n",
      " 0   datetime   367 non-null    object \n",
      " 1   GHI_kWhm2  367 non-null    float64\n",
      "dtypes: float64(1), object(1)\n",
      "memory usage: 8.6+ KB\n"
     ]
    }
   ],
   "source": [
    "en_df.info()"
   ]
  },
  {
   "cell_type": "code",
   "execution_count": 138,
   "id": "c5df008e-bc03-4ec1-bfa0-d75d4c3d644b",
   "metadata": {},
   "outputs": [],
   "source": [
    "en_df[\"datetime\"] = pd.to_datetime(en_df.datetime)"
   ]
  },
  {
   "cell_type": "code",
   "execution_count": 139,
   "id": "126a786a-003b-497c-a509-84cb40fff379",
   "metadata": {},
   "outputs": [
    {
     "data": {
      "text/plain": [
       "DatetimeIndex(['2021-02-11', '2021-02-12', '2021-02-13', '2021-02-14',\n",
       "               '2021-02-15', '2021-02-16', '2021-02-17', '2021-02-18',\n",
       "               '2021-02-19', '2021-02-20',\n",
       "               ...\n",
       "               '2022-02-02', '2022-02-03', '2022-02-04', '2022-02-05',\n",
       "               '2022-02-06', '2022-02-07', '2022-02-08', '2022-02-09',\n",
       "               '2022-02-10', '2022-02-11'],\n",
       "              dtype='datetime64[ns]', length=366, freq='D')"
      ]
     },
     "execution_count": 139,
     "metadata": {},
     "output_type": "execute_result"
    }
   ],
   "source": [
    "dates = pd.date_range(start=\"2021-02-11\", end=\"2022-02-11\", freq=\"D\")\n",
    "dates"
   ]
  },
  {
   "cell_type": "code",
   "execution_count": 140,
   "id": "5daf0c90-5d32-4599-a64d-7f546f293cda",
   "metadata": {},
   "outputs": [
    {
     "data": {
      "text/html": [
       "<div>\n",
       "<style scoped>\n",
       "    .dataframe tbody tr th:only-of-type {\n",
       "        vertical-align: middle;\n",
       "    }\n",
       "\n",
       "    .dataframe tbody tr th {\n",
       "        vertical-align: top;\n",
       "    }\n",
       "\n",
       "    .dataframe thead th {\n",
       "        text-align: right;\n",
       "    }\n",
       "</style>\n",
       "<table border=\"1\" class=\"dataframe\">\n",
       "  <thead>\n",
       "    <tr style=\"text-align: right;\">\n",
       "      <th></th>\n",
       "      <th>datetime</th>\n",
       "      <th>GHI_kWhm2</th>\n",
       "    </tr>\n",
       "  </thead>\n",
       "  <tbody>\n",
       "    <tr>\n",
       "      <th>342</th>\n",
       "      <td>2022-01-19</td>\n",
       "      <td>9.113902</td>\n",
       "    </tr>\n",
       "    <tr>\n",
       "      <th>0</th>\n",
       "      <td>2022-01-19</td>\n",
       "      <td>9.113902</td>\n",
       "    </tr>\n",
       "  </tbody>\n",
       "</table>\n",
       "</div>"
      ],
      "text/plain": [
       "      datetime  GHI_kWhm2\n",
       "342 2022-01-19   9.113902\n",
       "0   2022-01-19   9.113902"
      ]
     },
     "execution_count": 140,
     "metadata": {},
     "output_type": "execute_result"
    }
   ],
   "source": [
    "en_df.loc[en_df.duplicated(keep=False)]"
   ]
  },
  {
   "cell_type": "code",
   "execution_count": 141,
   "id": "96cd453a-c60f-40cd-ac92-679794a1848f",
   "metadata": {},
   "outputs": [
    {
     "name": "stdout",
     "output_type": "stream",
     "text": [
      "<class 'pandas.core.frame.DataFrame'>\n",
      "DatetimeIndex: 366 entries, 2021-02-11 to 2022-02-11\n",
      "Freq: D\n",
      "Data columns (total 1 columns):\n",
      " #   Column     Non-Null Count  Dtype  \n",
      "---  ------     --------------  -----  \n",
      " 0   GHI_kWhm2  366 non-null    float64\n",
      "dtypes: float64(1)\n",
      "memory usage: 5.7 KB\n"
     ]
    }
   ],
   "source": [
    "en_df.drop_duplicates(keep=\"first\", inplace=True)\n",
    "en_df.drop(columns=\"datetime\", inplace=True)\n",
    "en_df.index = dates\n",
    "en_df.info()"
   ]
  },
  {
   "cell_type": "code",
   "execution_count": 142,
   "id": "e5bf50ce-0544-4997-a60b-e7d23f9445b8",
   "metadata": {},
   "outputs": [
    {
     "name": "stdout",
     "output_type": "stream",
     "text": [
      "            GHI_kWhm2\n",
      "2021-02-11   8.777939\n",
      "2021-02-12   8.696773\n",
      "2021-02-13   8.767492\n",
      "2021-02-14   8.588747\n",
      "2021-02-15   8.723858\n",
      "----------------------------------\n",
      "            GHI_kWhm2\n",
      "2022-02-07   9.033778\n",
      "2022-02-08   8.972952\n",
      "2022-02-09   8.915150\n",
      "2022-02-10   8.872869\n",
      "2022-02-11   8.954777\n"
     ]
    }
   ],
   "source": [
    "print(en_df.iloc[0:5])\n",
    "print(\"----------------------------------\")\n",
    "print(en_df.iloc[-5:])"
   ]
  },
  {
   "cell_type": "code",
   "execution_count": 143,
   "id": "92f2d9f1-4970-4adc-97c1-baa94d78e1c4",
   "metadata": {},
   "outputs": [
    {
     "data": {
      "image/png": "[encoded data removed]",
      "text/plain": [
       "<Figure size 432x288 with 1 Axes>"
      ]
     },
     "metadata": {
      "needs_background": "light"
     },
     "output_type": "display_data"
    }
   ],
   "source": [
    "sns.distplot(en_df)\n",
    "plt.show()"
   ]
  },
  {
   "cell_type": "code",
   "execution_count": 148,
   "id": "d64c8ee2-cc71-4424-bfbf-76a25d702570",
   "metadata": {},
   "outputs": [
    {
     "data": {
      "image/png": "[encoded data removed]",
      "text/plain": [
       "<Figure size 432x288 with 1 Axes>"
      ]
     },
     "metadata": {
      "needs_background": "light"
     },
     "output_type": "display_data"
    }
   ],
   "source": [
    "en_df.plot()\n",
    "plt.show()"
   ]
  },
  {
   "cell_type": "code",
   "execution_count": 146,
   "id": "2e68b783-4ca3-4486-a791-201b5427e855",
   "metadata": {},
   "outputs": [],
   "source": [
    "weekly_en_df = en_df[\"GHI_kWhm2\"].resample(\"W\").mean()\n",
    "monthly_en_df = en_df[\"GHI_kWhm2\"].resample(\"M\").mean()\n",
    "quarter_en_df = en_df[\"GHI_kWhm2\"].resample(\"Q\").mean()"
   ]
  },
  {
   "cell_type": "code",
   "execution_count": 147,
   "id": "a4d41e45-b075-4373-a8cd-b26f82e040b5",
   "metadata": {},
   "outputs": [
    {
     "data": {
      "image/png": "[encoded data removed]",
      "text/plain": [
       "<Figure size 792x792 with 4 Axes>"
      ]
     },
     "metadata": {
      "needs_background": "light"
     },
     "output_type": "display_data"
    }
   ],
   "source": [
    "fig, ax = plt.subplots(nrows=2, ncols=2, figsize=(11,11))\n",
    "ax[0, 0].plot(en_df.index.values, en_df[\"GHI_kWhm2\"].values)\n",
    "\n",
    "ax[0, 1].plot(weekly_en_df.index.values, weekly_en_df.values)\n",
    "\n",
    "ax[1, 0].plot(monthly_en_df.index.values, monthly_en_df.values)\n",
    "\n",
    "ax[1, 1].plot(quarter_en_df.index.values, quarter_en_df.values)\n",
    "\n",
    "plt.show()"
   ]
  },
  {
   "cell_type": "code",
   "execution_count": 149,
   "id": "59eb5778-51ec-4032-a048-13d2d32e5765",
   "metadata": {},
   "outputs": [
    {
     "name": "stdout",
     "output_type": "stream",
     "text": [
      "366, 53, 13, 5\n"
     ]
    }
   ],
   "source": [
    "print(f\"{en_df.shape[0]}, {weekly_en_df.shape[0]}, {monthly_en_df.shape[0]}, {quarter_en_df.shape[0]}\")"
   ]
  },
  {
   "cell_type": "code",
   "execution_count": 150,
   "id": "79e2fd73-5f87-491f-8806-8ff7012250ae",
   "metadata": {},
   "outputs": [
    {
     "data": {
      "text/plain": [
       "GHI_kWhm2    0\n",
       "dtype: int64"
      ]
     },
     "execution_count": 150,
     "metadata": {},
     "output_type": "execute_result"
    }
   ],
   "source": [
    "en_df.isnull().sum()"
   ]
  },
  {
   "cell_type": "code",
   "execution_count": 151,
   "id": "87f7041e-182a-4f16-a4e7-63e16f5768cc",
   "metadata": {},
   "outputs": [
    {
     "data": {
      "text/plain": [
       "DatetimeIndex(['2021-07-27', '2021-07-28', '2021-07-29', '2021-07-30',\n",
       "               '2021-07-31', '2021-08-01', '2021-10-06', '2021-10-07',\n",
       "               '2021-10-08', '2021-10-09', '2021-10-10', '2021-10-11',\n",
       "               '2021-10-12', '2021-10-13', '2021-10-14', '2021-10-15',\n",
       "               '2021-10-16', '2021-10-17', '2021-10-18', '2021-10-19',\n",
       "               '2021-10-20', '2021-10-21', '2021-10-22', '2021-10-23',\n",
       "               '2021-10-24', '2021-10-25', '2021-10-26', '2021-10-27',\n",
       "               '2021-10-28', '2021-10-29', '2021-10-30', '2021-10-31',\n",
       "               '2021-11-01', '2021-11-02', '2021-11-03', '2021-11-04',\n",
       "               '2021-11-05', '2021-11-06', '2021-11-07', '2021-11-08',\n",
       "               '2021-11-09', '2021-11-10', '2021-11-11', '2021-11-12',\n",
       "               '2021-11-13', '2021-11-14', '2021-11-15', '2021-11-16',\n",
       "               '2021-11-17', '2021-11-18'],\n",
       "              dtype='datetime64[ns]', freq=None)"
      ]
     },
     "execution_count": 151,
     "metadata": {},
     "output_type": "execute_result"
    }
   ],
   "source": [
    "idx = en_df == 0\n",
    "en_df.index[idx.values.squeeze()]"
   ]
  },
  {
   "cell_type": "code",
   "execution_count": 152,
   "id": "dc5e43b0-e6c4-45ae-bb9c-4173cbc8b397",
   "metadata": {},
   "outputs": [
    {
     "data": {
      "text/plain": [
       "Int64Index([7, 8, 10, 11], dtype='int64')"
      ]
     },
     "execution_count": 152,
     "metadata": {},
     "output_type": "execute_result"
    }
   ],
   "source": [
    "en_df.index[idx.values.squeeze()].month.unique()"
   ]
  },
  {
   "cell_type": "code",
   "execution_count": 153,
   "id": "636fd552-5431-475c-9b6d-ef8b16c1fe31",
   "metadata": {},
   "outputs": [
    {
     "data": {
      "text/plain": [
       "DatetimeIndex(['2021-07-27', '2021-07-28', '2021-07-29', '2021-07-30',\n",
       "               '2021-07-31', '2021-08-01', '2021-10-06', '2021-10-07',\n",
       "               '2021-10-08', '2021-10-09', '2021-10-10', '2021-10-11',\n",
       "               '2021-10-12', '2021-10-13', '2021-10-14', '2021-10-15',\n",
       "               '2021-10-16', '2021-10-17', '2021-10-18', '2021-10-19',\n",
       "               '2021-10-20', '2021-10-21', '2021-10-22', '2021-10-23',\n",
       "               '2021-10-24', '2021-10-25', '2021-10-26', '2021-10-27',\n",
       "               '2021-10-28', '2021-10-29', '2021-10-30', '2021-10-31',\n",
       "               '2021-11-01', '2021-11-02', '2021-11-03', '2021-11-04',\n",
       "               '2021-11-05', '2021-11-06', '2021-11-07', '2021-11-08',\n",
       "               '2021-11-09', '2021-11-10', '2021-11-11', '2021-11-12',\n",
       "               '2021-11-13', '2021-11-14', '2021-11-15', '2021-11-16',\n",
       "               '2021-11-17', '2021-11-18'],\n",
       "              dtype='datetime64[ns]', freq=None)"
      ]
     },
     "execution_count": 153,
     "metadata": {},
     "output_type": "execute_result"
    }
   ],
   "source": [
    "idx_2_fill = en_df.index[idx.values.squeeze()]\n",
    "idx_2_fill"
   ]
  },
  {
   "cell_type": "code",
   "execution_count": 154,
   "id": "9d3e8826-1cba-447d-ae05-592dd2d69dea",
   "metadata": {},
   "outputs": [
    {
     "data": {
      "text/plain": [
       "2021-07-04    4.822650\n",
       "2021-07-11    4.828946\n",
       "2021-07-18    4.371946\n",
       "2021-07-25    4.960751\n",
       "2021-08-01    0.106968\n",
       "2021-08-08    5.205015\n",
       "2021-08-15    5.399607\n",
       "2021-08-22    6.134368\n",
       "2021-08-29    6.412871\n",
       "Freq: W-SUN, Name: GHI_kWhm2, dtype: float64"
      ]
     },
     "execution_count": 154,
     "metadata": {},
     "output_type": "execute_result"
    }
   ],
   "source": [
    "weekly_en_df.loc[\"2021-07\":\"2021-08\"]"
   ]
  },
  {
   "cell_type": "code",
   "execution_count": 155,
   "id": "82978d92-4a3f-48b7-ad6a-64ef4820b4d3",
   "metadata": {},
   "outputs": [],
   "source": [
    "en_df.loc[idx_2_fill] = np.nan"
   ]
  },
  {
   "cell_type": "code",
   "execution_count": 156,
   "id": "4a50e3c5-de2e-4218-8df6-688f470d46fc",
   "metadata": {},
   "outputs": [
    {
     "data": {
      "text/html": [
       "<div>\n",
       "<style scoped>\n",
       "    .dataframe tbody tr th:only-of-type {\n",
       "        vertical-align: middle;\n",
       "    }\n",
       "\n",
       "    .dataframe tbody tr th {\n",
       "        vertical-align: top;\n",
       "    }\n",
       "\n",
       "    .dataframe thead th {\n",
       "        text-align: right;\n",
       "    }\n",
       "</style>\n",
       "<table border=\"1\" class=\"dataframe\">\n",
       "  <thead>\n",
       "    <tr style=\"text-align: right;\">\n",
       "      <th></th>\n",
       "      <th>GHI_kWhm2</th>\n",
       "    </tr>\n",
       "  </thead>\n",
       "  <tbody>\n",
       "    <tr>\n",
       "      <th>2021-07-27</th>\n",
       "      <td>NaN</td>\n",
       "    </tr>\n",
       "    <tr>\n",
       "      <th>2021-07-28</th>\n",
       "      <td>NaN</td>\n",
       "    </tr>\n",
       "    <tr>\n",
       "      <th>2021-07-29</th>\n",
       "      <td>NaN</td>\n",
       "    </tr>\n",
       "    <tr>\n",
       "      <th>2021-07-30</th>\n",
       "      <td>NaN</td>\n",
       "    </tr>\n",
       "    <tr>\n",
       "      <th>2021-07-31</th>\n",
       "      <td>NaN</td>\n",
       "    </tr>\n",
       "    <tr>\n",
       "      <th>2021-08-01</th>\n",
       "      <td>NaN</td>\n",
       "    </tr>\n",
       "    <tr>\n",
       "      <th>2021-10-06</th>\n",
       "      <td>NaN</td>\n",
       "    </tr>\n",
       "    <tr>\n",
       "      <th>2021-10-07</th>\n",
       "      <td>NaN</td>\n",
       "    </tr>\n",
       "    <tr>\n",
       "      <th>2021-10-08</th>\n",
       "      <td>NaN</td>\n",
       "    </tr>\n",
       "    <tr>\n",
       "      <th>2021-10-09</th>\n",
       "      <td>NaN</td>\n",
       "    </tr>\n",
       "    <tr>\n",
       "      <th>2021-10-10</th>\n",
       "      <td>NaN</td>\n",
       "    </tr>\n",
       "    <tr>\n",
       "      <th>2021-10-11</th>\n",
       "      <td>NaN</td>\n",
       "    </tr>\n",
       "    <tr>\n",
       "      <th>2021-10-12</th>\n",
       "      <td>NaN</td>\n",
       "    </tr>\n",
       "    <tr>\n",
       "      <th>2021-10-13</th>\n",
       "      <td>NaN</td>\n",
       "    </tr>\n",
       "    <tr>\n",
       "      <th>2021-10-14</th>\n",
       "      <td>NaN</td>\n",
       "    </tr>\n",
       "    <tr>\n",
       "      <th>2021-10-15</th>\n",
       "      <td>NaN</td>\n",
       "    </tr>\n",
       "    <tr>\n",
       "      <th>2021-10-16</th>\n",
       "      <td>NaN</td>\n",
       "    </tr>\n",
       "    <tr>\n",
       "      <th>2021-10-17</th>\n",
       "      <td>NaN</td>\n",
       "    </tr>\n",
       "    <tr>\n",
       "      <th>2021-10-18</th>\n",
       "      <td>NaN</td>\n",
       "    </tr>\n",
       "    <tr>\n",
       "      <th>2021-10-19</th>\n",
       "      <td>NaN</td>\n",
       "    </tr>\n",
       "    <tr>\n",
       "      <th>2021-10-20</th>\n",
       "      <td>NaN</td>\n",
       "    </tr>\n",
       "    <tr>\n",
       "      <th>2021-10-21</th>\n",
       "      <td>NaN</td>\n",
       "    </tr>\n",
       "    <tr>\n",
       "      <th>2021-10-22</th>\n",
       "      <td>NaN</td>\n",
       "    </tr>\n",
       "    <tr>\n",
       "      <th>2021-10-23</th>\n",
       "      <td>NaN</td>\n",
       "    </tr>\n",
       "    <tr>\n",
       "      <th>2021-10-24</th>\n",
       "      <td>NaN</td>\n",
       "    </tr>\n",
       "    <tr>\n",
       "      <th>2021-10-25</th>\n",
       "      <td>NaN</td>\n",
       "    </tr>\n",
       "    <tr>\n",
       "      <th>2021-10-26</th>\n",
       "      <td>NaN</td>\n",
       "    </tr>\n",
       "    <tr>\n",
       "      <th>2021-10-27</th>\n",
       "      <td>NaN</td>\n",
       "    </tr>\n",
       "    <tr>\n",
       "      <th>2021-10-28</th>\n",
       "      <td>NaN</td>\n",
       "    </tr>\n",
       "    <tr>\n",
       "      <th>2021-10-29</th>\n",
       "      <td>NaN</td>\n",
       "    </tr>\n",
       "    <tr>\n",
       "      <th>2021-10-30</th>\n",
       "      <td>NaN</td>\n",
       "    </tr>\n",
       "    <tr>\n",
       "      <th>2021-10-31</th>\n",
       "      <td>NaN</td>\n",
       "    </tr>\n",
       "    <tr>\n",
       "      <th>2021-11-01</th>\n",
       "      <td>NaN</td>\n",
       "    </tr>\n",
       "    <tr>\n",
       "      <th>2021-11-02</th>\n",
       "      <td>NaN</td>\n",
       "    </tr>\n",
       "    <tr>\n",
       "      <th>2021-11-03</th>\n",
       "      <td>NaN</td>\n",
       "    </tr>\n",
       "    <tr>\n",
       "      <th>2021-11-04</th>\n",
       "      <td>NaN</td>\n",
       "    </tr>\n",
       "    <tr>\n",
       "      <th>2021-11-05</th>\n",
       "      <td>NaN</td>\n",
       "    </tr>\n",
       "    <tr>\n",
       "      <th>2021-11-06</th>\n",
       "      <td>NaN</td>\n",
       "    </tr>\n",
       "    <tr>\n",
       "      <th>2021-11-07</th>\n",
       "      <td>NaN</td>\n",
       "    </tr>\n",
       "    <tr>\n",
       "      <th>2021-11-08</th>\n",
       "      <td>NaN</td>\n",
       "    </tr>\n",
       "    <tr>\n",
       "      <th>2021-11-09</th>\n",
       "      <td>NaN</td>\n",
       "    </tr>\n",
       "    <tr>\n",
       "      <th>2021-11-10</th>\n",
       "      <td>NaN</td>\n",
       "    </tr>\n",
       "    <tr>\n",
       "      <th>2021-11-11</th>\n",
       "      <td>NaN</td>\n",
       "    </tr>\n",
       "    <tr>\n",
       "      <th>2021-11-12</th>\n",
       "      <td>NaN</td>\n",
       "    </tr>\n",
       "    <tr>\n",
       "      <th>2021-11-13</th>\n",
       "      <td>NaN</td>\n",
       "    </tr>\n",
       "    <tr>\n",
       "      <th>2021-11-14</th>\n",
       "      <td>NaN</td>\n",
       "    </tr>\n",
       "    <tr>\n",
       "      <th>2021-11-15</th>\n",
       "      <td>NaN</td>\n",
       "    </tr>\n",
       "    <tr>\n",
       "      <th>2021-11-16</th>\n",
       "      <td>NaN</td>\n",
       "    </tr>\n",
       "    <tr>\n",
       "      <th>2021-11-17</th>\n",
       "      <td>NaN</td>\n",
       "    </tr>\n",
       "    <tr>\n",
       "      <th>2021-11-18</th>\n",
       "      <td>NaN</td>\n",
       "    </tr>\n",
       "  </tbody>\n",
       "</table>\n",
       "</div>"
      ],
      "text/plain": [
       "            GHI_kWhm2\n",
       "2021-07-27        NaN\n",
       "2021-07-28        NaN\n",
       "2021-07-29        NaN\n",
       "2021-07-30        NaN\n",
       "2021-07-31        NaN\n",
       "2021-08-01        NaN\n",
       "2021-10-06        NaN\n",
       "2021-10-07        NaN\n",
       "2021-10-08        NaN\n",
       "2021-10-09        NaN\n",
       "2021-10-10        NaN\n",
       "2021-10-11        NaN\n",
       "2021-10-12        NaN\n",
       "2021-10-13        NaN\n",
       "2021-10-14        NaN\n",
       "2021-10-15        NaN\n",
       "2021-10-16        NaN\n",
       "2021-10-17        NaN\n",
       "2021-10-18        NaN\n",
       "2021-10-19        NaN\n",
       "2021-10-20        NaN\n",
       "2021-10-21        NaN\n",
       "2021-10-22        NaN\n",
       "2021-10-23        NaN\n",
       "2021-10-24        NaN\n",
       "2021-10-25        NaN\n",
       "2021-10-26        NaN\n",
       "2021-10-27        NaN\n",
       "2021-10-28        NaN\n",
       "2021-10-29        NaN\n",
       "2021-10-30        NaN\n",
       "2021-10-31        NaN\n",
       "2021-11-01        NaN\n",
       "2021-11-02        NaN\n",
       "2021-11-03        NaN\n",
       "2021-11-04        NaN\n",
       "2021-11-05        NaN\n",
       "2021-11-06        NaN\n",
       "2021-11-07        NaN\n",
       "2021-11-08        NaN\n",
       "2021-11-09        NaN\n",
       "2021-11-10        NaN\n",
       "2021-11-11        NaN\n",
       "2021-11-12        NaN\n",
       "2021-11-13        NaN\n",
       "2021-11-14        NaN\n",
       "2021-11-15        NaN\n",
       "2021-11-16        NaN\n",
       "2021-11-17        NaN\n",
       "2021-11-18        NaN"
      ]
     },
     "execution_count": 156,
     "metadata": {},
     "output_type": "execute_result"
    }
   ],
   "source": [
    "en_df.loc[idx_2_fill]"
   ]
  },
  {
   "cell_type": "code",
   "execution_count": 157,
   "id": "1765e70b-8937-4bf8-99ab-c058000987f8",
   "metadata": {},
   "outputs": [
    {
     "data": {
      "text/plain": [
       "GHI_kWhm2    50\n",
       "dtype: int64"
      ]
     },
     "execution_count": 157,
     "metadata": {},
     "output_type": "execute_result"
    }
   ],
   "source": [
    "en_df.isnull().sum()"
   ]
  },
  {
   "cell_type": "code",
   "execution_count": 158,
   "id": "8a4eec51-5b02-4e4e-8240-9d6b64ac7053",
   "metadata": {},
   "outputs": [],
   "source": [
    "df = en_df.interpolate(method='spline', order=3)"
   ]
  },
  {
   "cell_type": "code",
   "execution_count": 159,
   "id": "efa47c84-aef7-4e3f-ba03-df0a5d5c7127",
   "metadata": {},
   "outputs": [
    {
     "data": {
      "text/plain": [
       "<AxesSubplot:>"
      ]
     },
     "execution_count": 159,
     "metadata": {},
     "output_type": "execute_result"
    },
    {
     "data": {
      "image/png": "[encoded data removed]",
      "text/plain": [
       "<Figure size 432x288 with 1 Axes>"
      ]
     },
     "metadata": {
      "needs_background": "light"
     },
     "output_type": "display_data"
    }
   ],
   "source": [
    "df.plot()"
   ]
  },
  {
   "cell_type": "code",
   "execution_count": 160,
   "id": "091e976b-124e-4c07-af89-2a6889de267a",
   "metadata": {},
   "outputs": [
    {
     "data": {
      "text/plain": [
       "<AxesSubplot:>"
      ]
     },
     "execution_count": 160,
     "metadata": {},
     "output_type": "execute_result"
    },
    {
     "data": {
      "image/png": "[encoded data removed]",
      "text/plain": [
       "<Figure size 432x288 with 1 Axes>"
      ]
     },
     "metadata": {
      "needs_background": "light"
     },
     "output_type": "display_data"
    }
   ],
   "source": [
    "df.boxplot()"
   ]
  },
  {
   "cell_type": "code",
   "execution_count": 161,
   "id": "af6ff8d0-2203-4ef9-87a5-b54d70286490",
   "metadata": {},
   "outputs": [
    {
     "data": {
      "text/plain": [
       "<AxesSubplot:>"
      ]
     },
     "execution_count": 161,
     "metadata": {},
     "output_type": "execute_result"
    },
    {
     "data": {
      "image/png": "[encoded data removed]",
      "text/plain": [
       "<Figure size 432x288 with 1 Axes>"
      ]
     },
     "metadata": {
      "needs_background": "light"
     },
     "output_type": "display_data"
    }
   ],
   "source": [
    "Q1 = df.quantile(.25)\n",
    "Q2 = df.quantile(.75)\n",
    "IQR = Q2-Q1\n",
    "up = df.mean() + 1.75*IQR\n",
    "down = df.mean() - 1.75*IQR\n",
    "df1 = df[(df < up) & (df > down)]\n",
    "df1.boxplot()"
   ]
  },
  {
   "cell_type": "code",
   "execution_count": 169,
   "id": "8f2c16d6-1814-49c5-af98-f6bb165b2ddf",
   "metadata": {},
   "outputs": [
    {
     "data": {
      "image/png": "[encoded data removed]",
      "text/plain": [
       "<Figure size 432x288 with 1 Axes>"
      ]
     },
     "metadata": {
      "needs_background": "light"
     },
     "output_type": "display_data"
    }
   ],
   "source": [
    "df1.hist(bins='sturges', edgecolor='black')\n",
    "plt.show()"
   ]
  },
  {
   "cell_type": "code",
   "execution_count": 166,
   "id": "f53c1c66-b428-4363-ad81-bf44d0bb1ae2",
   "metadata": {},
   "outputs": [
    {
     "data": {
      "image/png": "[encoded data removed]",
      "text/plain": [
       "<Figure size 432x288 with 1 Axes>"
      ]
     },
     "metadata": {
      "needs_background": "light"
     },
     "output_type": "display_data"
    }
   ],
   "source": [
    "sns.distplot(df1.GHI_kWhm2)\n",
    "plt.show()"
   ]
  },
  {
   "cell_type": "code",
   "execution_count": 162,
   "id": "ab409d85-49bb-4364-a918-1a13152b7b7e",
   "metadata": {},
   "outputs": [
    {
     "data": {
      "text/plain": [
       "<AxesSubplot:>"
      ]
     },
     "execution_count": 162,
     "metadata": {},
     "output_type": "execute_result"
    },
    {
     "data": {
      "image/png": "[encoded data removed]",
      "text/plain": [
       "<Figure size 432x288 with 1 Axes>"
      ]
     },
     "metadata": {
      "needs_background": "light"
     },
     "output_type": "display_data"
    }
   ],
   "source": [
    "df1.plot()"
   ]
  },
  {
   "cell_type": "code",
   "execution_count": 163,
   "id": "c630b64a-9615-4a03-bab6-b5f1b68fc748",
   "metadata": {},
   "outputs": [
    {
     "data": {
      "text/plain": [
       "GHI_kWhm2    1\n",
       "dtype: int64"
      ]
     },
     "execution_count": 163,
     "metadata": {},
     "output_type": "execute_result"
    }
   ],
   "source": [
    "df1.isnull().sum()"
   ]
  },
  {
   "cell_type": "code",
   "execution_count": 170,
   "id": "504effb4-ed96-4e15-8926-a20a0e51ca14",
   "metadata": {},
   "outputs": [
    {
     "data": {
      "text/plain": [
       "<AxesSubplot:>"
      ]
     },
     "execution_count": 170,
     "metadata": {},
     "output_type": "execute_result"
    },
    {
     "data": {
      "image/png": "[encoded data removed]",
      "text/plain": [
       "<Figure size 432x288 with 1 Axes>"
      ]
     },
     "metadata": {
      "needs_background": "light"
     },
     "output_type": "display_data"
    }
   ],
   "source": [
    "df1 = df1.interpolate(method='spline', order=3)\n",
    "df1.plot()"
   ]
  },
  {
   "cell_type": "code",
   "execution_count": 26,
   "id": "1db2b541-5d4f-45b2-a819-7a9ee14f4553",
   "metadata": {},
   "outputs": [],
   "source": [
    "for m in [7,  8, 10, 11]:\n",
    "    en_df.loc[f\"2021-{m}\"] = en_df[en_df.index.month==m].fillna(value=monthly_en_df.loc[f\"2021-{m}\"].values[0])"
   ]
  },
  {
   "cell_type": "code",
   "execution_count": 27,
   "id": "2df0d8c3-d78f-43a7-9187-69a401a13d42",
   "metadata": {},
   "outputs": [
    {
     "data": {
      "text/plain": [
       "1.2946896774193548"
      ]
     },
     "execution_count": 27,
     "metadata": {},
     "output_type": "execute_result"
    }
   ],
   "source": [
    "monthly_en_df.loc[f\"2021-{10}\"].values[0]"
   ]
  },
  {
   "cell_type": "code",
   "execution_count": 28,
   "id": "f7e727d6-514a-403c-99ce-24626999a14e",
   "metadata": {},
   "outputs": [
    {
     "data": {
      "text/html": [
       "<div>\n",
       "<style scoped>\n",
       "    .dataframe tbody tr th:only-of-type {\n",
       "        vertical-align: middle;\n",
       "    }\n",
       "\n",
       "    .dataframe tbody tr th {\n",
       "        vertical-align: top;\n",
       "    }\n",
       "\n",
       "    .dataframe thead th {\n",
       "        text-align: right;\n",
       "    }\n",
       "</style>\n",
       "<table border=\"1\" class=\"dataframe\">\n",
       "  <thead>\n",
       "    <tr style=\"text-align: right;\">\n",
       "      <th></th>\n",
       "      <th>GHI_kWhm2</th>\n",
       "    </tr>\n",
       "  </thead>\n",
       "  <tbody>\n",
       "    <tr>\n",
       "      <th>2021-02-11</th>\n",
       "      <td>8.777939</td>\n",
       "    </tr>\n",
       "    <tr>\n",
       "      <th>2021-02-12</th>\n",
       "      <td>8.696773</td>\n",
       "    </tr>\n",
       "    <tr>\n",
       "      <th>2021-02-13</th>\n",
       "      <td>8.767492</td>\n",
       "    </tr>\n",
       "    <tr>\n",
       "      <th>2021-02-14</th>\n",
       "      <td>8.588747</td>\n",
       "    </tr>\n",
       "    <tr>\n",
       "      <th>2021-02-15</th>\n",
       "      <td>8.723858</td>\n",
       "    </tr>\n",
       "    <tr>\n",
       "      <th>...</th>\n",
       "      <td>...</td>\n",
       "    </tr>\n",
       "    <tr>\n",
       "      <th>2022-02-07</th>\n",
       "      <td>9.033778</td>\n",
       "    </tr>\n",
       "    <tr>\n",
       "      <th>2022-02-08</th>\n",
       "      <td>8.972952</td>\n",
       "    </tr>\n",
       "    <tr>\n",
       "      <th>2022-02-09</th>\n",
       "      <td>8.915150</td>\n",
       "    </tr>\n",
       "    <tr>\n",
       "      <th>2022-02-10</th>\n",
       "      <td>8.872869</td>\n",
       "    </tr>\n",
       "    <tr>\n",
       "      <th>2022-02-11</th>\n",
       "      <td>8.954777</td>\n",
       "    </tr>\n",
       "  </tbody>\n",
       "</table>\n",
       "<p>366 rows × 1 columns</p>\n",
       "</div>"
      ],
      "text/plain": [
       "            GHI_kWhm2\n",
       "2021-02-11   8.777939\n",
       "2021-02-12   8.696773\n",
       "2021-02-13   8.767492\n",
       "2021-02-14   8.588747\n",
       "2021-02-15   8.723858\n",
       "...               ...\n",
       "2022-02-07   9.033778\n",
       "2022-02-08   8.972952\n",
       "2022-02-09   8.915150\n",
       "2022-02-10   8.872869\n",
       "2022-02-11   8.954777\n",
       "\n",
       "[366 rows x 1 columns]"
      ]
     },
     "execution_count": 28,
     "metadata": {},
     "output_type": "execute_result"
    }
   ],
   "source": [
    "en_df"
   ]
  },
  {
   "cell_type": "code",
   "execution_count": 31,
   "id": "ecaab0ba-759a-462c-9542-ec148731e881",
   "metadata": {},
   "outputs": [
    {
     "data": {
      "text/plain": [
       "Int64Index([44, 44, 44, 44, 44, 44, 44, 45, 45, 45, 45, 45, 45, 45, 46, 46, 46,\n",
       "            46, 46, 46, 46, 47, 47, 47, 47, 47, 47, 47, 48, 48],\n",
       "           dtype='int64')"
      ]
     },
     "execution_count": 31,
     "metadata": {},
     "output_type": "execute_result"
    }
   ],
   "source": [
    "en_df[en_df.index.month==m].index.week"
   ]
  },
  {
   "cell_type": "code",
   "execution_count": 113,
   "id": "210d3a44-8b0e-4cb2-bb9d-c450dc771c26",
   "metadata": {},
   "outputs": [
    {
     "data": {
      "text/html": [
       "<div>\n",
       "<style scoped>\n",
       "    .dataframe tbody tr th:only-of-type {\n",
       "        vertical-align: middle;\n",
       "    }\n",
       "\n",
       "    .dataframe tbody tr th {\n",
       "        vertical-align: top;\n",
       "    }\n",
       "\n",
       "    .dataframe thead th {\n",
       "        text-align: right;\n",
       "    }\n",
       "</style>\n",
       "<table border=\"1\" class=\"dataframe\">\n",
       "  <thead>\n",
       "    <tr style=\"text-align: right;\">\n",
       "      <th></th>\n",
       "      <th>index</th>\n",
       "      <th>GHI_kWhm2</th>\n",
       "    </tr>\n",
       "  </thead>\n",
       "  <tbody>\n",
       "    <tr>\n",
       "      <th>0</th>\n",
       "      <td>2021-02-11</td>\n",
       "      <td>8.777939</td>\n",
       "    </tr>\n",
       "    <tr>\n",
       "      <th>1</th>\n",
       "      <td>2021-02-12</td>\n",
       "      <td>8.696773</td>\n",
       "    </tr>\n",
       "    <tr>\n",
       "      <th>2</th>\n",
       "      <td>2021-02-13</td>\n",
       "      <td>8.767492</td>\n",
       "    </tr>\n",
       "    <tr>\n",
       "      <th>3</th>\n",
       "      <td>2021-02-14</td>\n",
       "      <td>8.588747</td>\n",
       "    </tr>\n",
       "    <tr>\n",
       "      <th>4</th>\n",
       "      <td>2021-02-15</td>\n",
       "      <td>8.723858</td>\n",
       "    </tr>\n",
       "    <tr>\n",
       "      <th>...</th>\n",
       "      <td>...</td>\n",
       "      <td>...</td>\n",
       "    </tr>\n",
       "    <tr>\n",
       "      <th>361</th>\n",
       "      <td>2022-02-07</td>\n",
       "      <td>9.033778</td>\n",
       "    </tr>\n",
       "    <tr>\n",
       "      <th>362</th>\n",
       "      <td>2022-02-08</td>\n",
       "      <td>8.972952</td>\n",
       "    </tr>\n",
       "    <tr>\n",
       "      <th>363</th>\n",
       "      <td>2022-02-09</td>\n",
       "      <td>8.915150</td>\n",
       "    </tr>\n",
       "    <tr>\n",
       "      <th>364</th>\n",
       "      <td>2022-02-10</td>\n",
       "      <td>8.872869</td>\n",
       "    </tr>\n",
       "    <tr>\n",
       "      <th>365</th>\n",
       "      <td>2022-02-11</td>\n",
       "      <td>8.954777</td>\n",
       "    </tr>\n",
       "  </tbody>\n",
       "</table>\n",
       "<p>366 rows × 2 columns</p>\n",
       "</div>"
      ],
      "text/plain": [
       "         index  GHI_kWhm2\n",
       "0   2021-02-11   8.777939\n",
       "1   2021-02-12   8.696773\n",
       "2   2021-02-13   8.767492\n",
       "3   2021-02-14   8.588747\n",
       "4   2021-02-15   8.723858\n",
       "..         ...        ...\n",
       "361 2022-02-07   9.033778\n",
       "362 2022-02-08   8.972952\n",
       "363 2022-02-09   8.915150\n",
       "364 2022-02-10   8.872869\n",
       "365 2022-02-11   8.954777\n",
       "\n",
       "[366 rows x 2 columns]"
      ]
     },
     "execution_count": 113,
     "metadata": {},
     "output_type": "execute_result"
    }
   ],
   "source": [
    "df = en_df.reset_index()\n",
    "df"
   ]
  },
  {
   "cell_type": "code",
   "execution_count": 114,
   "id": "ed499418-ea66-433c-a7ae-23090dbe68ae",
   "metadata": {},
   "outputs": [],
   "source": [
    "df.rename(columns={\"index\":\"dates\"}, inplace=True)"
   ]
  },
  {
   "cell_type": "code",
   "execution_count": 107,
   "id": "009c877a-1b38-4f48-bb0b-32949068ce15",
   "metadata": {},
   "outputs": [
    {
     "data": {
      "text/plain": [
       "0      6\n",
       "1      6\n",
       "2      6\n",
       "3      6\n",
       "4      7\n",
       "      ..\n",
       "361    6\n",
       "362    6\n",
       "363    6\n",
       "364    6\n",
       "365    6\n",
       "Name: dates, Length: 366, dtype: int64"
      ]
     },
     "execution_count": 107,
     "metadata": {},
     "output_type": "execute_result"
    }
   ],
   "source": [
    "df.dates.dt.week"
   ]
  },
  {
   "cell_type": "code",
   "execution_count": 108,
   "id": "7b96fae4-d9af-405d-81f9-2a50e7ad818a",
   "metadata": {},
   "outputs": [
    {
     "data": {
      "text/plain": [
       "array([30, 40, 41, 42, 43, 44, 45, 46])"
      ]
     },
     "execution_count": 108,
     "metadata": {},
     "output_type": "execute_result"
    }
   ],
   "source": [
    "df[df[\"GHI_kWhm2\"].isnull()][\"dates\"].dt.week.unique()"
   ]
  },
  {
   "cell_type": "code",
   "execution_count": 110,
   "id": "1d30bb9e-e520-4ecb-a56c-8289bce65a96",
   "metadata": {},
   "outputs": [],
   "source": [
    "na_weeks = df[df[\"GHI_kWhm2\"].isnull()][\"dates\"].dt.week.unique()\n",
    "for w in na_weeks:\n",
    "    df.loc[df.dates.dt.week==w, \"GHI_kWhm2\"] = df[df.dates.dt.week==w].fillna(\n",
    "        value=weekly_en_df[weekly_en_df.index.week==w].iloc[0]\n",
    "    )"
   ]
  },
  {
   "cell_type": "code",
   "execution_count": 111,
   "id": "5f012e99-892e-4847-a9f4-518c908e597b",
   "metadata": {},
   "outputs": [
    {
     "data": {
      "text/plain": [
       "[<matplotlib.lines.Line2D at 0x13119a2c0>]"
      ]
     },
     "execution_count": 111,
     "metadata": {},
     "output_type": "execute_result"
    },
    {
     "data": {
      "image/png": "[encoded data removed]",
      "text/plain": [
       "<Figure size 432x288 with 1 Axes>"
      ]
     },
     "metadata": {
      "needs_background": "light"
     },
     "output_type": "display_data"
    }
   ],
   "source": [
    "plt.plot(df.dates, df.GHI_kWhm2)"
   ]
  },
  {
   "cell_type": "code",
   "execution_count": 82,
   "id": "5f4b0238-af32-41f8-b358-252d2e63a6e0",
   "metadata": {},
   "outputs": [
    {
     "data": {
      "text/plain": [
       "Int64Index([ 6,  7,  8,  9, 10, 11, 12, 13, 14, 15, 16, 17, 18, 19, 20, 21, 22,\n",
       "            23, 24, 25, 26, 27, 28, 29, 30, 31, 32, 33, 34, 35, 36, 37, 38, 39,\n",
       "            40, 41, 42, 43, 44, 45, 46, 47, 48, 49, 50, 51, 52,  1,  2,  3,  4,\n",
       "             5,  6],\n",
       "           dtype='int64')"
      ]
     },
     "execution_count": 82,
     "metadata": {},
     "output_type": "execute_result"
    }
   ],
   "source": [
    "weekly_en_df.index.week"
   ]
  },
  {
   "cell_type": "code",
   "execution_count": 103,
   "id": "c407771e-0514-4111-9aba-a91d4fe89a87",
   "metadata": {},
   "outputs": [
    {
     "data": {
      "text/plain": [
       "2021-08-01    0.106968\n",
       "Freq: W-SUN, Name: GHI_kWhm2, dtype: float64"
      ]
     },
     "execution_count": 103,
     "metadata": {},
     "output_type": "execute_result"
    }
   ],
   "source": [
    "weekly_en_df[weekly_en_df.index.week==30]"
   ]
  },
  {
   "cell_type": "code",
   "execution_count": 164,
   "id": "dbd671ee-3e41-4be6-873c-50840478f835",
   "metadata": {},
   "outputs": [
    {
     "ename": "AttributeError",
     "evalue": "'DataFrame' object has no attribute 'dates'",
     "output_type": "error",
     "traceback": [
      "\u001b[0;31m---------------------------------------------------------------------------\u001b[0m",
      "\u001b[0;31mAttributeError\u001b[0m                            Traceback (most recent call last)",
      "Input \u001b[0;32mIn [164]\u001b[0m, in \u001b[0;36m<cell line: 1>\u001b[0;34m()\u001b[0m\n\u001b[0;32m----> 1\u001b[0m df\u001b[38;5;241m.\u001b[39mloc[\u001b[43mdf\u001b[49m\u001b[38;5;241;43m.\u001b[39;49m\u001b[43mdates\u001b[49m\u001b[38;5;241m.\u001b[39mdt\u001b[38;5;241m.\u001b[39mweek\u001b[38;5;241m==\u001b[39m\u001b[38;5;241m30\u001b[39m]\n",
      "File \u001b[0;32m/Library/Frameworks/Python.framework/Versions/3.10/lib/python3.10/site-packages/pandas/core/generic.py:5575\u001b[0m, in \u001b[0;36mNDFrame.__getattr__\u001b[0;34m(self, name)\u001b[0m\n\u001b[1;32m   5568\u001b[0m \u001b[38;5;28;01mif\u001b[39;00m (\n\u001b[1;32m   5569\u001b[0m     name \u001b[38;5;129;01mnot\u001b[39;00m \u001b[38;5;129;01min\u001b[39;00m \u001b[38;5;28mself\u001b[39m\u001b[38;5;241m.\u001b[39m_internal_names_set\n\u001b[1;32m   5570\u001b[0m     \u001b[38;5;129;01mand\u001b[39;00m name \u001b[38;5;129;01mnot\u001b[39;00m \u001b[38;5;129;01min\u001b[39;00m \u001b[38;5;28mself\u001b[39m\u001b[38;5;241m.\u001b[39m_metadata\n\u001b[1;32m   5571\u001b[0m     \u001b[38;5;129;01mand\u001b[39;00m name \u001b[38;5;129;01mnot\u001b[39;00m \u001b[38;5;129;01min\u001b[39;00m \u001b[38;5;28mself\u001b[39m\u001b[38;5;241m.\u001b[39m_accessors\n\u001b[1;32m   5572\u001b[0m     \u001b[38;5;129;01mand\u001b[39;00m \u001b[38;5;28mself\u001b[39m\u001b[38;5;241m.\u001b[39m_info_axis\u001b[38;5;241m.\u001b[39m_can_hold_identifiers_and_holds_name(name)\n\u001b[1;32m   5573\u001b[0m ):\n\u001b[1;32m   5574\u001b[0m     \u001b[38;5;28;01mreturn\u001b[39;00m \u001b[38;5;28mself\u001b[39m[name]\n\u001b[0;32m-> 5575\u001b[0m \u001b[38;5;28;01mreturn\u001b[39;00m \u001b[38;5;28;43mobject\u001b[39;49m\u001b[38;5;241;43m.\u001b[39;49m\u001b[38;5;21;43m__getattribute__\u001b[39;49m\u001b[43m(\u001b[49m\u001b[38;5;28;43mself\u001b[39;49m\u001b[43m,\u001b[49m\u001b[43m \u001b[49m\u001b[43mname\u001b[49m\u001b[43m)\u001b[49m\n",
      "\u001b[0;31mAttributeError\u001b[0m: 'DataFrame' object has no attribute 'dates'"
     ]
    }
   ],
   "source": [
    "df.loc[df.dates.dt.week==30]"
   ]
  },
  {
   "cell_type": "code",
   "execution_count": 130,
   "id": "6b1580af-972e-4d44-b7b9-182117b0efa3",
   "metadata": {},
   "outputs": [
    {
     "data": {
      "text/plain": [
       "[<matplotlib.lines.Line2D at 0x296315720>]"
      ]
     },
     "execution_count": 130,
     "metadata": {},
     "output_type": "execute_result"
    },
    {
     "data": {
      "image/png": "[encoded data removed]",
      "text/plain": [
       "<Figure size 432x288 with 1 Axes>"
      ]
     },
     "metadata": {
      "needs_background": "light"
     },
     "output_type": "display_data"
    }
   ],
   "source": [
    "df1 = df.GHI_kWhm2.interpolate(method='spline', order=3)\n",
    "plt.plot(df.dates, df1)"
   ]
  },
  {
   "cell_type": "code",
   "execution_count": 171,
   "id": "5f8b9380-ac0f-412c-bbf4-71fa57c6258c",
   "metadata": {},
   "outputs": [],
   "source": [
    "df1.to_parquet(\"headerEnergyPSDA.parquet\", compression=\"snappy\", index=True)"
   ]
  },
  {
   "cell_type": "code",
   "execution_count": 172,
   "id": "beb74400-aecb-41a7-9c13-3987f8845668",
   "metadata": {},
   "outputs": [
    {
     "data": {
      "text/html": [
       "<div>\n",
       "<style scoped>\n",
       "    .dataframe tbody tr th:only-of-type {\n",
       "        vertical-align: middle;\n",
       "    }\n",
       "\n",
       "    .dataframe tbody tr th {\n",
       "        vertical-align: top;\n",
       "    }\n",
       "\n",
       "    .dataframe thead th {\n",
       "        text-align: right;\n",
       "    }\n",
       "</style>\n",
       "<table border=\"1\" class=\"dataframe\">\n",
       "  <thead>\n",
       "    <tr style=\"text-align: right;\">\n",
       "      <th></th>\n",
       "      <th>GHI_kWhm2</th>\n",
       "    </tr>\n",
       "  </thead>\n",
       "  <tbody>\n",
       "    <tr>\n",
       "      <th>2021-02-11</th>\n",
       "      <td>8.777939</td>\n",
       "    </tr>\n",
       "    <tr>\n",
       "      <th>2021-02-12</th>\n",
       "      <td>8.696773</td>\n",
       "    </tr>\n",
       "    <tr>\n",
       "      <th>2021-02-13</th>\n",
       "      <td>8.767492</td>\n",
       "    </tr>\n",
       "    <tr>\n",
       "      <th>2021-02-14</th>\n",
       "      <td>8.588747</td>\n",
       "    </tr>\n",
       "    <tr>\n",
       "      <th>2021-02-15</th>\n",
       "      <td>8.723858</td>\n",
       "    </tr>\n",
       "    <tr>\n",
       "      <th>...</th>\n",
       "      <td>...</td>\n",
       "    </tr>\n",
       "    <tr>\n",
       "      <th>2022-02-07</th>\n",
       "      <td>9.033778</td>\n",
       "    </tr>\n",
       "    <tr>\n",
       "      <th>2022-02-08</th>\n",
       "      <td>8.972952</td>\n",
       "    </tr>\n",
       "    <tr>\n",
       "      <th>2022-02-09</th>\n",
       "      <td>8.915150</td>\n",
       "    </tr>\n",
       "    <tr>\n",
       "      <th>2022-02-10</th>\n",
       "      <td>8.872869</td>\n",
       "    </tr>\n",
       "    <tr>\n",
       "      <th>2022-02-11</th>\n",
       "      <td>8.954777</td>\n",
       "    </tr>\n",
       "  </tbody>\n",
       "</table>\n",
       "<p>366 rows × 1 columns</p>\n",
       "</div>"
      ],
      "text/plain": [
       "            GHI_kWhm2\n",
       "2021-02-11   8.777939\n",
       "2021-02-12   8.696773\n",
       "2021-02-13   8.767492\n",
       "2021-02-14   8.588747\n",
       "2021-02-15   8.723858\n",
       "...               ...\n",
       "2022-02-07   9.033778\n",
       "2022-02-08   8.972952\n",
       "2022-02-09   8.915150\n",
       "2022-02-10   8.872869\n",
       "2022-02-11   8.954777\n",
       "\n",
       "[366 rows x 1 columns]"
      ]
     },
     "execution_count": 172,
     "metadata": {},
     "output_type": "execute_result"
    }
   ],
   "source": [
    "pd.read_parquet(\"headerEnergyPSDA.parquet\")"
   ]
  },
  {
   "cell_type": "code",
   "execution_count": null,
   "id": "e19c984e-6c6c-47c4-9060-bca3e84f1cc4",
   "metadata": {},
   "outputs": [],
   "source": []
  }
 ],
 "metadata": {
  "kernelspec": {
   "display_name": "Python 3 (ipykernel)",
   "language": "python",
   "name": "python3"
  },
  "language_info": {
   "codemirror_mode": {
    "name": "ipython",
    "version": 3
   },
   "file_extension": ".py",
   "mimetype": "text/x-python",
   "name": "python",
   "nbconvert_exporter": "python",
   "pygments_lexer": "ipython3",
   "version": "3.10.4"
  }
 },
 "nbformat": 4,
 "nbformat_minor": 5
}
